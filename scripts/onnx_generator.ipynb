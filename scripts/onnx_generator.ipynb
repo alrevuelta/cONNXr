{
 "cells": [
  {
   "cell_type": "code",
   "execution_count": 1,
   "metadata": {},
   "outputs": [],
   "source": [
    "#python.dataScience.textOutputLimit  = 0\n",
    "from onnx_generator import args\n",
    "# args.onnx = []\n",
    "args.onnx = [\"../third_party/onnx/onnx.build\"]\n",
    "# args.verbose = 0\n",
    "# args.header = [\"include/operators\"]\n",
    "# args.no_header = 0\n",
    "# args.check = [\"src/operators/check\"]\n",
    "# args.no_check = 0\n",
    "# args.resolve = [\"src/operators/resolve\"]\n",
    "# args.no_resolve = 0\n",
    "# args.sets = [\"src/operators/\"]\n",
    "# args.no_sets = 0\n",
    "# args.info_src = [\"src/operators/info\"]\n",
    "# args.no_info_src = 0\n",
    "# args.info_header = [\"include/operators/info\"]\n",
    "# args.no_info_header = 0\n",
    "# args.force = 0\n",
    "args.force = 1\n",
    "# args.dryrun = 0\n",
    "args.dryrun = 1\n",
    "# args.include = [\".*\"]\n",
    "# args.exclude = []\n",
    "# args.version = [\"all\"]\n",
    "# args.domains  = [\"all\"]\n",
    "# args.domains = ['onnx', 'ai.onnx.ml', 'ai.onnx.training']\n",
    "# args.path = []\n",
    "args.path = [\"/tmp/\"]"
   ]
  },
  {
   "cell_type": "code",
   "execution_count": 2,
   "metadata": {
    "tags": []
   },
   "outputs": [
    {
     "output_type": "stream",
     "name": "stdout",
     "text": "selecting domains\nselecting onnx operator schema versions\ngenerating onnx operator headers\ngenerating onnx operator type resolvers\ngenerating onnx operator sanity checks\ngenerating onnx operator sets\ngenerating onnx operator info sources\ngenerating onnx operator info headers\nwrote 1621 of 1621 files\n"
    }
   ],
   "source": [
    "from onnx_generator import run"
   ]
  }
 ],
 "metadata": {
  "language_info": {
   "codemirror_mode": {
    "name": "ipython",
    "version": 3
   },
   "file_extension": ".py",
   "mimetype": "text/x-python",
   "name": "python",
   "nbconvert_exporter": "python",
   "pygments_lexer": "ipython3",
   "version": "3.8.3-final"
  },
  "orig_nbformat": 2,
  "kernelspec": {
   "name": "python38264bit9e8d4b1ada4a4f78b79ba3f9d70f6015",
   "display_name": "Python 3.8.2 64-bit"
  }
 },
 "nbformat": 4,
 "nbformat_minor": 2
}